{
 "cells": [
  {
   "cell_type": "code",
   "execution_count": null,
   "metadata": {},
   "outputs": [
    {
     "name": "stdout",
     "output_type": "stream",
     "text": [
      "Python 3.9.13\n"
     ]
    }
   ],
   "source": [
    "!python --version"
   ]
  },
  {
   "cell_type": "code",
   "execution_count": null,
   "metadata": {},
   "outputs": [
    {
     "name": "stdout",
     "output_type": "stream",
     "text": [
      "10\n"
     ]
    }
   ],
   "source": [
    "x = 10\n",
    "y = 20\n",
    "print(x)"
   ]
  },
  {
   "cell_type": "code",
   "execution_count": null,
   "metadata": {},
   "outputs": [
    {
     "name": "stdout",
     "output_type": "stream",
     "text": [
      "20\n"
     ]
    }
   ],
   "source": [
    "print(y)"
   ]
  },
  {
   "cell_type": "code",
   "execution_count": null,
   "metadata": {},
   "outputs": [
    {
     "name": "stdout",
     "output_type": "stream",
     "text": [
      "30\n"
     ]
    }
   ],
   "source": [
    "z = x+y\n",
    "print(z)"
   ]
  },
  {
   "cell_type": "code",
   "execution_count": null,
   "metadata": {},
   "outputs": [
    {
     "name": "stdout",
     "output_type": "stream",
     "text": [
      "40\n"
     ]
    }
   ],
   "source": [
    "z1 = z+10\n",
    "print(z1)"
   ]
  },
  {
   "cell_type": "code",
   "execution_count": null,
   "metadata": {},
   "outputs": [
    {
     "data": {
      "text/plain": [
       "int"
      ]
     },
     "metadata": {},
     "output_type": "display_data"
    }
   ],
   "source": [
    "type(z1)"
   ]
  },
  {
   "cell_type": "code",
   "execution_count": null,
   "metadata": {},
   "outputs": [
    {
     "name": "stdout",
     "output_type": "stream",
     "text": [
      "b\n"
     ]
    }
   ],
   "source": [
    "print('b')"
   ]
  },
  {
   "cell_type": "code",
   "execution_count": null,
   "metadata": {},
   "outputs": [
    {
     "data": {
      "text/plain": [
       "5"
      ]
     },
     "metadata": {},
     "output_type": "display_data"
    }
   ],
   "source": [
    "a = \"hello\"\n",
    "len(a)"
   ]
  },
  {
   "cell_type": "code",
   "execution_count": null,
   "metadata": {},
   "outputs": [
    {
     "data": {
      "text/plain": [
       "'l'"
      ]
     },
     "metadata": {},
     "output_type": "display_data"
    }
   ],
   "source": [
    "a[2]"
   ]
  },
  {
   "cell_type": "code",
   "execution_count": null,
   "metadata": {},
   "outputs": [
    {
     "name": "stdout",
     "output_type": "stream",
     "text": [
      "hello world\n"
     ]
    }
   ],
   "source": [
    "p = a+' world'\n",
    "print(p)"
   ]
  },
  {
   "cell_type": "code",
   "execution_count": null,
   "metadata": {},
   "outputs": [
    {
     "data": {
      "text/plain": [
       "str"
      ]
     },
     "metadata": {},
     "output_type": "display_data"
    }
   ],
   "source": [
    "type(p)"
   ]
  },
  {
   "cell_type": "code",
   "execution_count": null,
   "metadata": {},
   "outputs": [
    {
     "data": {
      "text/plain": [
       "'hell'"
      ]
     },
     "metadata": {},
     "output_type": "display_data"
    }
   ],
   "source": [
    "p[0:4]"
   ]
  },
  {
   "cell_type": "code",
   "execution_count": null,
   "metadata": {},
   "outputs": [
    {
     "name": "stdout",
     "output_type": "stream",
     "text": [
      "memory address of a: 2699808164912\n"
     ]
    }
   ],
   "source": [
    "print(\"memory address of a:\", id(a))"
   ]
  },
  {
   "cell_type": "code",
   "execution_count": null,
   "metadata": {},
   "outputs": [
    {
     "data": {
      "text/plain": [
       "['False',\n",
       " 'None',\n",
       " 'True',\n",
       " '__peg_parser__',\n",
       " 'and',\n",
       " 'as',\n",
       " 'assert',\n",
       " 'async',\n",
       " 'await',\n",
       " 'break',\n",
       " 'class',\n",
       " 'continue',\n",
       " 'def',\n",
       " 'del',\n",
       " 'elif',\n",
       " 'else',\n",
       " 'except',\n",
       " 'finally',\n",
       " 'for',\n",
       " 'from',\n",
       " 'global',\n",
       " 'if',\n",
       " 'import',\n",
       " 'in',\n",
       " 'is',\n",
       " 'lambda',\n",
       " 'nonlocal',\n",
       " 'not',\n",
       " 'or',\n",
       " 'pass',\n",
       " 'raise',\n",
       " 'return',\n",
       " 'try',\n",
       " 'while',\n",
       " 'with',\n",
       " 'yield']"
      ]
     },
     "metadata": {},
     "output_type": "display_data"
    }
   ],
   "source": [
    "import keyword\n",
    "keyword.kwlist"
   ]
  },
  {
   "cell_type": "code",
   "execution_count": null,
   "metadata": {},
   "outputs": [
    {
     "name": "stdout",
     "output_type": "stream",
     "text": [
      "bharat\n"
     ]
    }
   ],
   "source": [
    "names= [\"ram\",\"shyam\",\"bharat\",\"raj\"]\n",
    "print(names[2])"
   ]
  },
  {
   "cell_type": "code",
   "execution_count": null,
   "metadata": {},
   "outputs": [
    {
     "name": "stdout",
     "output_type": "stream",
     "text": [
      "cde  is written by  c\n"
     ]
    }
   ],
   "source": [
    "books= {\"a\": \"abc\", \"b\": \"bca\", \"c\": \"cde\", \"d\": \"def\"}\n",
    "auth= \"c\"\n",
    "print(books[auth], \" is written by \",auth)"
   ]
  },
  {
   "cell_type": "code",
   "execution_count": null,
   "metadata": {},
   "outputs": [
    {
     "name": "stdout",
     "output_type": "stream",
     "text": [
      "0.8887855097847915\n",
      "[[0.07087293 0.9615213  0.42052908 0.94887167 0.83428643 0.74339596]\n",
      " [0.03414859 0.39941548 0.52346569 0.06990323 0.6960108  0.01741821]\n",
      " [0.42289413 0.10194431 0.79197964 0.76067183 0.71820678 0.95474195]\n",
      " [0.02104069 0.74475036 0.21730991 0.30693274 0.39802339 0.67850135]\n",
      " [0.52518973 0.06106232 0.64611298 0.42017054 0.46135191 0.80501842]]\n",
      "[[0.77171468 0.55507122 0.28140281 0.40166965]\n",
      " [0.65102737 0.30684121 0.17384913 0.93875885]\n",
      " [0.57082481 0.31279139 0.13115177 0.18335631]]\n"
     ]
    }
   ],
   "source": [
    "import numpy as np\n",
    "from numpy import random\n",
    "b= random.randint(10,100, size=5)\n",
    "c= random.rand()\n",
    "print(c)\n",
    "d= random.rand(5,6)\n",
    "print(d)\n",
    "e=random.random((3,4))\n",
    "print(e)"
   ]
  },
  {
   "cell_type": "code",
   "execution_count": null,
   "metadata": {},
   "outputs": [
    {
     "ename": "SyntaxError",
     "evalue": "EOL while scanning string literal (305247785.py, line 2)",
     "output_type": "error",
     "traceback": [
      "\u001b[1;36m  File \u001b[1;32m\"C:\\Users\\mpstme.student\\AppData\\Local\\Temp\\ipykernel_5704\\305247785.py\"\u001b[1;36m, line \u001b[1;32m2\u001b[0m\n",
      "\u001b[1;33m    \"\"\"\"this is an addition function\"\"\"\"\u001b[0m\n",
      "\u001b[1;37m                                        ^\u001b[0m\n",
      "\u001b[1;31mSyntaxError\u001b[0m\u001b[1;31m:\u001b[0m EOL while scanning string literal\n"
     ]
    }
   ],
   "source": []
  },
  {
   "cell_type": "code",
   "execution_count": null,
   "metadata": {},
   "outputs": [
    {
     "ename": "SyntaxError",
     "evalue": "EOL while scanning string literal (1546182182.py, line 2)",
     "output_type": "error",
     "traceback": [
      "\u001b[1;36m  File \u001b[1;32m\"C:\\Users\\mpstme.student\\AppData\\Local\\Temp\\ipykernel_5704\\1546182182.py\"\u001b[1;36m, line \u001b[1;32m2\u001b[0m\n",
      "\u001b[1;33m    \"\"\"\"this is an addition function\"\"\"\"\u001b[0m\n",
      "\u001b[1;37m                                        ^\u001b[0m\n",
      "\u001b[1;31mSyntaxError\u001b[0m\u001b[1;31m:\u001b[0m EOL while scanning string literal\n"
     ]
    }
   ],
   "source": [
    "def add_num(x,y):\n",
    "    \"\"\"\"this is an addition function\"\"\"\"\n",
    "    x= 10\n",
    "    y= 20\n",
    "    z= x+y\n",
    "    return(z)"
   ]
  },
  {
   "cell_type": "code",
   "execution_count": null,
   "metadata": {},
   "outputs": [
    {
     "name": "stdout",
     "output_type": "stream",
     "text": [
      "5\n"
     ]
    }
   ],
   "source": [
    "print(3+2*2**2//3)"
   ]
  },
  {
   "cell_type": "code",
   "execution_count": null,
   "metadata": {},
   "outputs": [
    {
     "name": "stdout",
     "output_type": "stream",
     "text": [
      "3\n"
     ]
    }
   ],
   "source": [
    "a= 1\n",
    "b= 2\n",
    "print(a+b)"
   ]
  },
  {
   "cell_type": "code",
   "execution_count": null,
   "metadata": {},
   "outputs": [
    {
     "name": "stdout",
     "output_type": "stream",
     "text": [
      "Hi\n",
      "Mike\n"
     ]
    }
   ],
   "source": [
    "x=1\n",
    "if(x!=1):\n",
    "    print('Hello')\n",
    "else:\n",
    "    print('Hi')\n",
    "    print('Mike')"
   ]
  },
  {
   "cell_type": "code",
   "execution_count": null,
   "metadata": {},
   "outputs": [
    {
     "name": "stdout",
     "output_type": "stream",
     "text": [
      "1\n",
      "2\n",
      "3\n"
     ]
    }
   ],
   "source": [
    "for n in range(3):\n",
    "    print(n+1)"
   ]
  },
  {
   "cell_type": "code",
   "execution_count": null,
   "metadata": {},
   "outputs": [
    {
     "name": "stdout",
     "output_type": "stream",
     "text": [
      "-5\n"
     ]
    }
   ],
   "source": [
    "def g(n): \n",
    "    s=0\n",
    "    for i in range(1, n+1):\n",
    "        if n%i == 0:\n",
    "               s = s+1\n",
    "    return(s)\n",
    "a= g(25)\n",
    "b= g(24)\n",
    "diff= a-b\n",
    "print(diff)"
   ]
  },
  {
   "cell_type": "code",
   "execution_count": null,
   "metadata": {},
   "outputs": [
    {
     "data": {
      "text/plain": [
       "81"
      ]
     },
     "metadata": {},
     "output_type": "display_data"
    }
   ],
   "source": [
    "5+8\n",
    "10-7\n",
    "4*5\n",
    "20/5\n",
    "20//5\n",
    "8%3\n",
    "3**4"
   ]
  },
  {
   "cell_type": "code",
   "execution_count": null,
   "metadata": {},
   "outputs": [
    {
     "data": {
      "text/plain": [
       "2.6666666666666665"
      ]
     },
     "metadata": {},
     "output_type": "display_data"
    }
   ],
   "source": [
    "8/3"
   ]
  },
  {
   "cell_type": "code",
   "execution_count": null,
   "metadata": {},
   "outputs": [
    {
     "name": "stdout",
     "output_type": "stream",
     "text": [
      "riya is 21 years old.\n"
     ]
    }
   ],
   "source": [
    "name= \"riya\"\n",
    "age= 21\n",
    "print(\"{} is {} years old.\" .format(name,age))"
   ]
  },
  {
   "cell_type": "code",
   "execution_count": null,
   "metadata": {},
   "outputs": [
    {
     "name": "stdout",
     "output_type": "stream",
     "text": [
      "12\n"
     ]
    }
   ],
   "source": [
    "a= \"1\"\n",
    "b= \"2\"\n",
    "print(a+b)"
   ]
  },
  {
   "cell_type": "code",
   "execution_count": null,
   "metadata": {},
   "outputs": [
    {
     "name": "stdout",
     "output_type": "stream",
     "text": [
      "Enter first number10\n",
      "Enter second number20\n",
      "30.0\n"
     ]
    }
   ],
   "source": [
    "def add(x,y):\n",
    "    return x+y\n",
    "num1 = float(input(\"Enter first number\"))\n",
    "num2 = float(input(\"Enter second number\"))\n",
    "result = num1+num2\n",
    "print(result)"
   ]
  },
  {
   "cell_type": "code",
   "execution_count": null,
   "metadata": {},
   "outputs": [
    {
     "name": "stdout",
     "output_type": "stream",
     "text": [
      "Enter first number:20\n",
      "Enter second number:5\n",
      "Enter operator (+,-,*,/):/\n",
      "Result is: 4.0\n"
     ]
    }
   ],
   "source": [
    "#simple calculator\n",
    "def add(x,y):\n",
    "    return x+y\n",
    "\n",
    "def subtract(x,y):\n",
    "    return x-y\n",
    "\n",
    "def multiply(x,y):\n",
    "    return x*y\n",
    "\n",
    "def divide(x,y):\n",
    "    if y!=0:\n",
    "        return x/y\n",
    "    else:\n",
    "        return \"cannot divide by zero\"\n",
    "\n",
    "num1=float(input(\"Enter first number:\"))\n",
    "num2=float(input(\"Enter second number:\"))\n",
    "operator=input(\"Enter operator (+,-,*,/):\")\n",
    "\n",
    "if operator == '+':\n",
    "    result=add(num1,num2)\n",
    "elif operator == '-':\n",
    "    result=subtract(num1,num2)\n",
    "elif operator == '*':\n",
    "    result=multiply(num1,num2)\n",
    "elif operator == '/':\n",
    "    result=divide(num1,num2)\n",
    "else:\n",
    "    result=\"Invalid operator\"\n",
    "\n",
    "print(\"Result is:\", result)"
   ]
  },
  {
   "cell_type": "code",
   "execution_count": null,
   "metadata": {},
   "outputs": [
    {
     "name": "stdout",
     "output_type": "stream",
     "text": [
      "Enter first number:200\n",
      "Enter first number:100\n",
      "Num1 is greater than num2\n"
     ]
    }
   ],
   "source": [
    "#number is equal, less than or greater than\n",
    "num1=int(input(\"Enter first number:\"))\n",
    "num2=int(input(\"Enter first number:\"))\n",
    "\n",
    "if(num1 == num2):\n",
    "    print(\"Both the numbers are equal\")\n",
    "elif num1 < num2:\n",
    "    print(\"Num1 is less than num2\")\n",
    "else:\n",
    "    print(\"Num1 is greater than num2\")"
   ]
  },
  {
   "cell_type": "code",
   "execution_count": null,
   "metadata": {},
   "outputs": [
    {
     "name": "stdout",
     "output_type": "stream",
     "text": [
      "Enter a number:12345\n",
      "Reversed number is 54321\n"
     ]
    }
   ],
   "source": [
    "#reverse a number\n",
    "num=int(input(\"Enter a number:\"))\n",
    "reversed_num=0\n",
    "\n",
    "while num>0:\n",
    "    digit=num%10\n",
    "    reversed_num=reversed_num * 10 +digit\n",
    "    num = num // 10\n",
    "print(\"Reversed number is\", reversed_num)"
   ]
  },
  {
   "cell_type": "code",
   "execution_count": null,
   "metadata": {},
   "outputs": [],
   "source": [
    "num=int(input(\"Enter a number:\"))\n",
    "str_num=str(num)\n",
    "reversed_str = str"
   ]
  },
  {
   "cell_type": "code",
   "execution_count": null,
   "metadata": {},
   "outputs": [
    {
     "name": "stdout",
     "output_type": "stream",
     "text": [
      "How many terms? 10\n",
      "Fibonacci sequence:\n",
      "0\n",
      "1\n",
      "1\n",
      "2\n",
      "3\n",
      "5\n",
      "8\n",
      "13\n",
      "21\n",
      "34\n"
     ]
    }
   ],
   "source": [
    "#fibonacci sequence\n",
    "terms = int(input(\"How many terms? \"))\n",
    "\n",
    "if terms <= 0:\n",
    "    print(\"Enter a positive integer\")\n",
    "elif terms == 1:\n",
    "    print(\"Fibonacci sequence:\")\n",
    "    print(0)\n",
    "else:\n",
    "    print(\"Fibonacci sequence:\")\n",
    "    a, b = 0, 1\n",
    "    print(a)\n",
    "    print(b)\n",
    "    for i in range(2, terms):\n",
    "        a, b = b, a + b\n",
    "        print(b)\n"
   ]
  },
  {
   "cell_type": "code",
   "execution_count": null,
   "metadata": {},
   "outputs": [
    {
     "ename": "KeyboardInterrupt",
     "evalue": "Interrupted by user",
     "output_type": "error",
     "traceback": [
      "\u001b[1;31m---------------------------------------------------------------------------\u001b[0m\n",
      "\u001b[1;31mKeyboardInterrupt\u001b[0m                         Traceback (most recent call last)\n",
      "\u001b[1;32m~\\AppData\\Local\\Temp\\ipykernel_21956\\1211495672.py\u001b[0m in \u001b[0;36m<module>\u001b[1;34m\u001b[0m\n",
      "\u001b[1;32m----> 1\u001b[1;33m \u001b[0mnterms\u001b[0m \u001b[1;33m=\u001b[0m \u001b[0mint\u001b[0m\u001b[1;33m(\u001b[0m\u001b[0minput\u001b[0m\u001b[1;33m(\u001b[0m\u001b[1;34m\"How many terms? \"\u001b[0m\u001b[1;33m)\u001b[0m\u001b[1;33m)\u001b[0m\u001b[1;33m\u001b[0m\u001b[1;33m\u001b[0m\u001b[0m\n",
      "\u001b[0m\u001b[0;32m      2\u001b[0m \u001b[0mn1\u001b[0m\u001b[1;33m,\u001b[0m\u001b[0mn2\u001b[0m\u001b[1;33m=\u001b[0m\u001b[1;36m0\u001b[0m\u001b[1;33m,\u001b[0m\u001b[1;36m1\u001b[0m\u001b[1;33m\u001b[0m\u001b[1;33m\u001b[0m\u001b[0m\n",
      "\u001b[0;32m      3\u001b[0m \u001b[0mcount\u001b[0m\u001b[1;33m=\u001b[0m\u001b[1;36m0\u001b[0m\u001b[1;33m\u001b[0m\u001b[1;33m\u001b[0m\u001b[0m\n",
      "\u001b[0;32m      4\u001b[0m \u001b[1;33m\u001b[0m\u001b[0m\n",
      "\u001b[0;32m      5\u001b[0m \u001b[1;32mif\u001b[0m \u001b[0mnterms\u001b[0m\u001b[1;33m<=\u001b[0m\u001b[1;36m0\u001b[0m\u001b[1;33m:\u001b[0m\u001b[1;33m\u001b[0m\u001b[1;33m\u001b[0m\u001b[0m\n",
      "\n",
      "\u001b[1;32mE:\\anaconda\\lib\\site-packages\\ipykernel\\kernelbase.py\u001b[0m in \u001b[0;36mraw_input\u001b[1;34m(self, prompt)\u001b[0m\n",
      "\u001b[0;32m   1175\u001b[0m                 \u001b[1;34m\"raw_input was called, but this frontend does not support input requests.\"\u001b[0m\u001b[1;33m\u001b[0m\u001b[1;33m\u001b[0m\u001b[0m\n",
      "\u001b[0;32m   1176\u001b[0m             )\n",
      "\u001b[1;32m-> 1177\u001b[1;33m         return self._input_request(\n",
      "\u001b[0m\u001b[0;32m   1178\u001b[0m             \u001b[0mstr\u001b[0m\u001b[1;33m(\u001b[0m\u001b[0mprompt\u001b[0m\u001b[1;33m)\u001b[0m\u001b[1;33m,\u001b[0m\u001b[1;33m\u001b[0m\u001b[1;33m\u001b[0m\u001b[0m\n",
      "\u001b[0;32m   1179\u001b[0m             \u001b[0mself\u001b[0m\u001b[1;33m.\u001b[0m\u001b[0m_parent_ident\u001b[0m\u001b[1;33m[\u001b[0m\u001b[1;34m\"shell\"\u001b[0m\u001b[1;33m]\u001b[0m\u001b[1;33m,\u001b[0m\u001b[1;33m\u001b[0m\u001b[1;33m\u001b[0m\u001b[0m\n",
      "\n",
      "\u001b[1;32mE:\\anaconda\\lib\\site-packages\\ipykernel\\kernelbase.py\u001b[0m in \u001b[0;36m_input_request\u001b[1;34m(self, prompt, ident, parent, password)\u001b[0m\n",
      "\u001b[0;32m   1217\u001b[0m             \u001b[1;32mexcept\u001b[0m \u001b[0mKeyboardInterrupt\u001b[0m\u001b[1;33m:\u001b[0m\u001b[1;33m\u001b[0m\u001b[1;33m\u001b[0m\u001b[0m\n",
      "\u001b[0;32m   1218\u001b[0m                 \u001b[1;31m# re-raise KeyboardInterrupt, to truncate traceback\u001b[0m\u001b[1;33m\u001b[0m\u001b[1;33m\u001b[0m\u001b[0m\n",
      "\u001b[1;32m-> 1219\u001b[1;33m                 \u001b[1;32mraise\u001b[0m \u001b[0mKeyboardInterrupt\u001b[0m\u001b[1;33m(\u001b[0m\u001b[1;34m\"Interrupted by user\"\u001b[0m\u001b[1;33m)\u001b[0m \u001b[1;32mfrom\u001b[0m \u001b[1;32mNone\u001b[0m\u001b[1;33m\u001b[0m\u001b[1;33m\u001b[0m\u001b[0m\n",
      "\u001b[0m\u001b[0;32m   1220\u001b[0m             \u001b[1;32mexcept\u001b[0m \u001b[0mException\u001b[0m\u001b[1;33m:\u001b[0m\u001b[1;33m\u001b[0m\u001b[1;33m\u001b[0m\u001b[0m\n",
      "\u001b[0;32m   1221\u001b[0m                 \u001b[0mself\u001b[0m\u001b[1;33m.\u001b[0m\u001b[0mlog\u001b[0m\u001b[1;33m.\u001b[0m\u001b[0mwarning\u001b[0m\u001b[1;33m(\u001b[0m\u001b[1;34m\"Invalid Message:\"\u001b[0m\u001b[1;33m,\u001b[0m \u001b[0mexc_info\u001b[0m\u001b[1;33m=\u001b[0m\u001b[1;32mTrue\u001b[0m\u001b[1;33m)\u001b[0m\u001b[1;33m\u001b[0m\u001b[1;33m\u001b[0m\u001b[0m\n",
      "\n",
      "\u001b[1;31mKeyboardInterrupt\u001b[0m: Interrupted by user"
     ]
    },
    {
     "name": "stdout",
     "output_type": "stream",
     "text": [
      "How many terms? 10\n"
     ]
    }
   ],
   "source": [
    "nterms = int(input(\"How many terms? \"))\n",
    "n1,n2=0,1\n",
    "count=0\n",
    "\n",
    "if nterms<=0:\n",
    "    print(\"Not available\")\n",
    "\n",
    "elif nterms ==1:\n",
    "    print(\"Fibonacci sequence\", n1)\n",
    "else:\n",
    "    print(\"Fibonacci sequence:\")\n",
    "    while count < nterms:\n",
    "        print(n1)\n",
    "        nth=n1+n2\n",
    "        n1=n2\n",
    "        n2=nth\n",
    "        count+=1"
   ]
  },
  {
   "cell_type": "code",
   "execution_count": null,
   "metadata": {},
   "outputs": [
    {
     "name": "stdout",
     "output_type": "stream",
     "text": [
      "Enter a number 10\n",
      "Sum = 25\n"
     ]
    }
   ],
   "source": [
    "n = int(input(\"Enter a number \"))\n",
    "sum=0\n",
    "\n",
    "for x in range(1,n+1):\n",
    "    if x % 2 !=0:\n",
    "        sum = sum + x\n",
    "print(\"Sum =\", sum)"
   ]
  },
  {
   "cell_type": "code",
   "execution_count": null,
   "metadata": {},
   "outputs": [
    {
     "name": "stdout",
     "output_type": "stream",
     "text": [
      "Enter a number: 145\n",
      "The number 145 is not an Armstrong number.\n"
     ]
    }
   ],
   "source": [
    "# Take input from the user\n",
    "num = int(input(\"Enter a number: \"))\n",
    "\n",
    "# Find the number of digits in the number\n",
    "num_digits = len(str(num))\n",
    "\n",
    "# Initialize sum to 0\n",
    "sum_of_powers = 0\n",
    "\n",
    "# Make a copy of the original number\n",
    "temp = num\n",
    "\n",
    "# Calculate the sum of each digit raised to the power of the number of digits\n",
    "while temp > 0:\n",
    "    digit = temp % 10\n",
    "    sum_of_powers += digit ** num_digits\n",
    "    temp //= 10\n",
    "\n",
    "# Check if the sum of powers is equal to the original number\n",
    "if sum_of_powers == num:\n",
    "    print(f\"The number {num} is an Armstrong number.\")\n",
    "else:\n",
    "    print(f\"The number {num} is not an Armstrong number.\")"
   ]
  },
  {
   "cell_type": "code",
   "execution_count": null,
   "metadata": {},
   "outputs": [
    {
     "name": "stdout",
     "output_type": "stream",
     "text": [
      "Enter a number: 145\n",
      "The number is a strong number\n"
     ]
    }
   ],
   "source": [
    "sum1=0\n",
    "num = int(input(\"Enter a number: \"))\n",
    "temp = num \n",
    "\n",
    "while num:\n",
    "    i=1\n",
    "    f=1\n",
    "    r =num % 10\n",
    "    while i <=r:\n",
    "        f=f*i\n",
    "        i=i+1\n",
    "    \n",
    "    sum1=sum1 + f\n",
    "    num = num // 10\n",
    "    \n",
    "if sum1 == temp:\n",
    "    print(\"The number is a strong number\")\n",
    "else:\n",
    "    print(\"The number is not a strong number\")"
   ]
  },
  {
   "cell_type": "code",
   "execution_count": null,
   "metadata": {},
   "outputs": [
    {
     "name": "stdout",
     "output_type": "stream",
     "text": [
      "Enter the value of a:  1\n",
      "Enter the value of b:  2\n",
      "Enter the value of c:  4\n"
     ]
    },
    {
     "name": "stdout",
     "output_type": "stream",
     "text": [
      "The roots are complex: -1.000+1.732i and -1.000-1.732i\n"
     ]
    }
   ],
   "source": [
    "import math\n",
    "\n",
    "a = float(input(\"Enter the value of a: \"))\n",
    "b = float(input(\"Enter the value of b: \"))\n",
    "c = float(input(\"Enter the value of c: \"))\n",
    "\n",
    "if a == 0 and b == 0:\n",
    "    print(\"No solution: a & b both cannot be zero.\")\n",
    "    exit()\n",
    "\n",
    "if a == 0:\n",
    "    x = -c / b\n",
    "    print(f\"Linear equation: root = {x:.3f}\")\n",
    "    exit()\n",
    "\n",
    "D = b ** 2 - 4 * a * c\n",
    "\n",
    "if D >= 0:\n",
    "    root1 = (-b + math.sqrt(D)) / (2 * a)\n",
    "    root2 = (-b - math.sqrt(D)) / (2 * a)\n",
    "    print(f\"The roots are real: {root1:.3f} and {root2:.3f}\")\n",
    "else:\n",
    "    real_part = -b / (2 * a)\n",
    "    imag_part = math.sqrt(abs(D)) / (2 * a)\n",
    "    print(f\"The roots are complex: {real_part:.3f}+{imag_part:.3f}i and {real_part:.3f}-{imag_part:.3f}i\")\n"
   ]
  },
  {
   "cell_type": "code",
   "execution_count": null,
   "metadata": {},
   "outputs": [
    {
     "name": "stdout",
     "output_type": "stream",
     "text": [
      "Enter the number of subjects:  4\n",
      "Enter marks for subject 1:  89\n",
      "Enter marks for subject 2:  87\n",
      "Enter marks for subject 3:  90\n",
      "Enter marks for subject 4:  77\n"
     ]
    },
    {
     "name": "stdout",
     "output_type": "stream",
     "text": [
      "Total Marks: 343\n",
      "Percentage: 85.75%\n",
      "Distinction\n"
     ]
    }
   ],
   "source": [
    "def calculate_grade():\n",
    "    num_subjects = int(input(\"Enter the number of subjects: \"))\n",
    "    total_marks = 0\n",
    "    for i in range(num_subjects):\n",
    "        marks = int(input(f\"Enter marks for subject {i + 1}: \"))\n",
    "        if marks < 0 or marks > 100:\n",
    "            print(\"Invalid marks entered! Marks should be between 0 and 100.\")\n",
    "            return\n",
    "        total_marks += marks\n",
    "    percentage = (total_marks / (num_subjects * 100)) * 100\n",
    "    print(f\"Total Marks: {total_marks}\")\n",
    "    print(f\"Percentage: {percentage}%\")\n",
    "    if percentage >= 92:\n",
    "        print(\"Merit\")\n",
    "    elif 75 <= percentage < 92:\n",
    "        print(\"Distinction\")\n",
    "    elif 60 <= percentage < 75:\n",
    "        print(\"First Class\")\n",
    "    elif 45 <= percentage < 60:\n",
    "        print(\"Second Class\")\n",
    "    else:\n",
    "        print(\"Fail\")\n",
    " \n",
    "calculate_grade()\n"
   ]
  },
  {
   "cell_type": "code",
   "execution_count": null,
   "metadata": {},
   "outputs": [
    {
     "name": "stdout",
     "output_type": "stream",
     "text": [
      "Enter the number of lines:  6\n"
     ]
    },
    {
     "name": "stdout",
     "output_type": "stream",
     "text": [
      "6 5 4 3 2 1 \n",
      "  5 4 3 2 1 \n",
      "    4 3 2 1 \n",
      "      3 2 1 \n",
      "        2 1 \n",
      "          1 \n"
     ]
    }
   ],
   "source": [
    "n = int(input(\"Enter the number of lines: \"))\n",
    "\n",
    "for i in range(n):\n",
    "    # Print leading spaces\n",
    "    print(\" \" * (2 * i), end=\"\")\n",
    "\n",
    "    for j in range(n - i, 0, -1):\n",
    "        print(j, end=\" \")\n",
    "\n",
    "    print()\n",
    "\n"
   ]
  },
  {
   "cell_type": "code",
   "execution_count": null,
   "metadata": {},
   "outputs": [],
   "source": []
  },
  {
   "cell_type": "code",
   "execution_count": null,
   "metadata": {},
   "outputs": [
    {
     "name": "stdout",
     "output_type": "stream",
     "text": [
      "Enter a string: hello\n",
      "The length of the string is: 5\n"
     ]
    }
   ],
   "source": [
    "user_input = input(\"Enter a string: \")\n",
    "\n",
    "string_length = len(user_input)\n",
    "\n",
    "print(f\"The length of the string is: {string_length}\")"
   ]
  },
  {
   "cell_type": "code",
   "execution_count": null,
   "metadata": {},
   "outputs": [
    {
     "name": "stdout",
     "output_type": "stream",
     "text": [
      "Enter a string: hello world\n",
      "h: 1\n",
      "e: 1\n",
      "l: 3\n",
      "l: 3\n",
      "o: 2\n",
      " : 1\n",
      "w: 1\n",
      "o: 2\n",
      "r: 1\n",
      "l: 3\n",
      "d: 1\n"
     ]
    }
   ],
   "source": [
    "string = input(\"Enter a string: \")\n",
    "for i in string:\n",
    "    frequency = string.count(i)\n",
    "    print(str(i) + \": \" +str(frequency))"
   ]
  },
  {
   "cell_type": "code",
   "execution_count": null,
   "metadata": {},
   "outputs": [
    {
     "name": "stdout",
     "output_type": "stream",
     "text": [
      "Enter a string: python\n",
      "The result string is: pyon\n"
     ]
    }
   ],
   "source": [
    "user_input = input(\"Enter a string: \")\n",
    "if len(user_input) >=2:\n",
    "    result = user_input[:2] + user_input[-2:]\n",
    "else:\n",
    "    result = \" \"\n",
    "print(f\"The result string is: {result}\")"
   ]
  },
  {
   "cell_type": "code",
   "execution_count": null,
   "metadata": {},
   "outputs": [
    {
     "name": "stdout",
     "output_type": "stream",
     "text": [
      "Enter a string: resource\n",
      "The modified string is: resou$ce\n"
     ]
    }
   ],
   "source": [
    "user_input = input(\"Enter a string: \")\n",
    "if user_input:\n",
    "    first_char = user_input[0]\n",
    "    modified_string = first_char + user_input[1:].replace(first_char,'$')\n",
    "    print(f\"The modified string is: {modified_string}\")\n",
    "else:\n",
    "    print(\"Please enter a string\")"
   ]
  },
  {
   "cell_type": "code",
   "execution_count": null,
   "metadata": {},
   "outputs": [
    {
     "name": "stdout",
     "output_type": "stream",
     "text": [
      "Enter a string: hello\n",
      "The modified string is: hello\n"
     ]
    }
   ],
   "source": [
    "user_input = input(\"Enter a string: \")\n",
    "for i in user_input"
   ]
  },
  {
   "cell_type": "code",
   "execution_count": null,
   "metadata": {},
   "outputs": [
    {
     "name": "stdout",
     "output_type": "stream",
     "text": [
      "Enter a main string: hello world \n",
      "Enter the substring: world\n",
      "The substring 'world' is present in main string\n"
     ]
    }
   ],
   "source": [
    "main_string = input(\"Enter a main string: \")\n",
    "substring = input(\"Enter the substring: \")\n",
    "\n",
    "if substring in main_string:\n",
    "    print(f\"The substring '{substring}' is present in main string\")\n",
    "else:\n",
    "    print(f\"The substring '{substring}' is not present in main string\")"
   ]
  },
  {
   "cell_type": "code",
   "execution_count": null,
   "metadata": {},
   "outputs": [
    {
     "name": "stdout",
     "output_type": "stream",
     "text": [
      "Enter a string: python\n",
      "Original string: python\n",
      "New string: nythop\n"
     ]
    }
   ],
   "source": [
    "user_input = input(\"Enter a string: \")\n",
    "if len(user_input) >=2:\n",
    "    new_string = user_input[-1] + user_input[1:-1] + user_input[0]\n",
    "    print(\"Original string:\", user_input)\n",
    "    print(\"New string:\", new_string)\n",
    "else:\n",
    "    print(\"String must contain atleast two characters\")"
   ]
  },
  {
   "cell_type": "code",
   "execution_count": null,
   "metadata": {},
   "outputs": [
    {
     "name": "stdout",
     "output_type": "stream",
     "text": [
      "Enter a string: radar\n",
      "The string is palindrome\n",
      "Original String:  radar\n",
      "Reversed String:  radar\n"
     ]
    }
   ],
   "source": [
    "user_input = input(\"Enter a string: \")\n",
    "lowercase_input = user_input.lower()\n",
    "\n",
    "if lowercase_input == lowercase_input[::-1]:\n",
    "    print(\"The string is palindrome\")\n",
    "else:\n",
    "    print(\"The string is not palindrome\")\n",
    "print(\"Original String: \",user_input)\n",
    "print(\"Reversed String: \",user_input[::-1])"
   ]
  },
  {
   "cell_type": "code",
   "execution_count": null,
   "metadata": {},
   "outputs": [
    {
     "name": "stdout",
     "output_type": "stream",
     "text": [
      "Enter string 1: Java Programming\n",
      "Enter string 2: Python Programming\n",
      "The resultant string is: JPPP\n"
     ]
    }
   ],
   "source": [
    "string1 = input(\"Enter string 1: \")\n",
    "string2 = input(\"Enter string 2: \")\n",
    "result = \"\"\n",
    "\n",
    "for char in string1 + string2:\n",
    "    if char.isupper():\n",
    "        result= result + char\n",
    "print(\"The resultant string is:\", result)"
   ]
  },
  {
   "cell_type": "code",
   "execution_count": null,
   "metadata": {},
   "outputs": [
    {
     "name": "stdout",
     "output_type": "stream",
     "text": [
      "Enter a string: python\n",
      "Enter a string: pythonnn\n",
      "['h', 'n', 'o', 'p', 't', 'y']\n",
      "False\n"
     ]
    }
   ],
   "source": [
    "string1 = input(\"Enter a string: \").lower()\n",
    "string2 = input(\"Enter a string: \").lower()\n",
    "string1_sorted = sorted(string1)\n",
    "print(string1_sorted)\n",
    "string2_sorted = sorted(string2)\n",
    "\n",
    "if string1_sorted == string2_sorted:\n",
    "    print(\"True\")\n",
    "else:\n",
    "    print(\"False\")"
   ]
  },
  {
   "cell_type": "code",
   "execution_count": null,
   "metadata": {},
   "outputs": [
    {
     "name": "stdout",
     "output_type": "stream",
     "text": [
      "Enter the words separated by spaces and/or commas: \n",
      "The name of my college is Mukesh Patel School of Technology\n",
      " 18.18% of words are more than 6 letters long\n"
     ]
    }
   ],
   "source": [
    "words = input(\"Enter the words separated by spaces and/or commas: \\n\")\n",
    "words_list = words.split()\n",
    "long_words = 0\n",
    "total_words = 0\n",
    "for word in words_list:\n",
    "    if len(word) > 6:\n",
    "        long_words +=1\n",
    "    total_words +=1\n",
    "percentage = (long_words/total_words) * 100\n",
    "print(f\"{percentage: .2f}% of words are more than 6 letters long\")"
   ]
  },
  {
   "cell_type": "code",
   "execution_count": null,
   "metadata": {},
   "outputs": [
    {
     "name": "stdout",
     "output_type": "stream",
     "text": [
      "Enter a sentence: this is a simple sentence\n",
      "this si a elpmis sentence .\n"
     ]
    }
   ],
   "source": [
    "sentence=input(\"Enter a sentence: \")\n",
    "words=sentence.split()\n",
    "new_sentence=\"\"\n",
    "\n",
    "for i,word in enumerate(words):\n",
    "    if i%2 == 0:\n",
    "        new_sentence+= word + \" \"\n",
    "    else:\n",
    "        new_sentence+=word[::-1] + \" \"\n",
    "print(new_sentence + \".\")"
   ]
  },
  {
   "cell_type": "code",
   "execution_count": null,
   "metadata": {},
   "outputs": [
    {
     "name": "stdout",
     "output_type": "stream",
     "text": [
      "Enter a sentence: this is     a     sentence\n",
      "Resultant string: thisisasentence\n"
     ]
    }
   ],
   "source": [
    "string=input(\"Enter a sentence: \")\n",
    "string=''.join(string.split())\n",
    "print(\"Resultant string:\",string)"
   ]
  },
  {
   "cell_type": "code",
   "execution_count": null,
   "metadata": {},
   "outputs": [
    {
     "name": "stdout",
     "output_type": "stream",
     "text": [
      "Enter a sentence: this is my python programming code \n",
      "t: **\n",
      "h: **\n",
      "i: ***\n",
      "s: **\n",
      "m: ***\n",
      "y: **\n",
      "p: **\n",
      "o: ***\n",
      "n: **\n",
      "r: **\n",
      "g: **\n",
      "a: *\n",
      "c: *\n",
      "d: *\n",
      "e: *\n"
     ]
    }
   ],
   "source": [
    "sentence = input(\"Enter a sentence: \")\n",
    "\n",
    "characters = []\n",
    "counts = []\n",
    "\n",
    "for char in sentence:\n",
    "    if char != ' ':\n",
    "        if char in characters:\n",
    "            index = characters.index(char)\n",
    "            counts[index] += 1\n",
    "        else:\n",
    "            characters.append(char)\n",
    "            counts.append(1)\n",
    "\n",
    "for i in range(len(characters)):\n",
    "    print(f\"{characters[i]}: {'*' * counts[i]}\")\n"
   ]
  },
  {
   "cell_type": "code",
   "execution_count": null,
   "metadata": {},
   "outputs": [
    {
     "name": "stdout",
     "output_type": "stream",
     "text": [
      "Top item: 30\n",
      "Popped item: 30\n",
      "Popped item: 20\n",
      "Is tack empty? False\n",
      "Popped item: 10\n",
      "Is stack empty? True\n"
     ]
    }
   ],
   "source": [
    "class Stack:\n",
    "    def __init__(self):\n",
    "        self.stack = []\n",
    "    def push(self, item):\n",
    "        self.stack.append(item)\n",
    "    def pop(self):\n",
    "        if not self.is_empty():\n",
    "            return self.stack.pop()\n",
    "        else:\n",
    "            return \"Stack is empty\"\n",
    "    def peek(self):\n",
    "        if not self.is_empty():\n",
    "            return self.stack[-1]\n",
    "        else:\n",
    "            return \"Stack is empty\"\n",
    "    def is_empty(self):\n",
    "        return len(self.stack) == 0\n",
    "if __name__ == \"__main__\":\n",
    "    stack=Stack()\n",
    "    stack.push(10)\n",
    "    stack.push(20)\n",
    "    stack.push(30)\n",
    "    print(f\"Top item: {stack.peek()}\")\n",
    "    print(f\"Popped item: {stack.pop()}\")\n",
    "    print(f\"Popped item: {stack.pop()}\")\n",
    "    print(f\"Is tack empty? {stack.is_empty()}\")\n",
    "    print(f\"Popped item: {stack.pop()}\")\n",
    "    print(f\"Is stack empty? {stack.is_empty()}\")"
   ]
  },
  {
   "cell_type": "code",
   "execution_count": null,
   "metadata": {},
   "outputs": [],
   "source": []
  },
  {
   "cell_type": "markdown",
   "metadata": {},
   "source": [
    "1.\tGive new name to the user by exchanging first and last characters of his/her name\n",
    "\n"
   ]
  },
  {
   "cell_type": "code",
   "execution_count": null,
   "metadata": {},
   "outputs": [
    {
     "name": "stdout",
     "output_type": "stream",
     "text": [
      "Enter your name:riya\n",
      "New Name: aiyr\n"
     ]
    }
   ],
   "source": [
    "username=input(\"Enter your name:\")\n",
    "new_name=username[-1] + user_name[1:-1] + user_name[0]\n",
    "print(\"New Name:\",new_name)"
   ]
  },
  {
   "cell_type": "markdown",
   "metadata": {},
   "source": [
    "2. Teacher has entered math marks for all the students in a list. Help her to print the second highest and second lowest marks. Use list data structure.\n",
    "\n"
   ]
  },
  {
   "cell_type": "code",
   "execution_count": null,
   "metadata": {},
   "outputs": [
    {
     "name": "stdout",
     "output_type": "stream",
     "text": [
      "[10, 20, 30, 40, 50, 70]\n",
      "Second lowest marks: 20\n",
      "Second highest marks: 50\n"
     ]
    }
   ],
   "source": [
    "math_marks=[20,70,50,10,40,30]\n",
    "sorted_marks=sorted(math_marks)\n",
    "print(sorted_marks)\n",
    "\n",
    "print(\"Second lowest marks:\",sorted_marks[1])\n",
    "print(\"Second highest marks:\",sorted_marks[-2])"
   ]
  },
  {
   "cell_type": "markdown",
   "metadata": {},
   "source": [
    "3.\tTeacher has to select all the students having roll numbers, that are multiple of 5. Help the teacher. Use list data structure\n"
   ]
  },
  {
   "cell_type": "code",
   "execution_count": null,
   "metadata": {},
   "outputs": [
    {
     "name": "stdout",
     "output_type": "stream",
     "text": [
      "[10, 20, 45, 50, 80]\n"
     ]
    }
   ],
   "source": [
    "#with loop\n",
    "roll_no=[10,13,20,50,45,80,7]\n",
    "selected_students=[]\n",
    "for roll_no in roll_no:\n",
    "    if roll_no%5==0:\n",
    "        selected_students.append(roll_no)\n",
    "sorted_selected_students=sorted(selected_students)\n",
    "print(sorted_selected_students)"
   ]
  },
  {
   "cell_type": "code",
   "execution_count": null,
   "metadata": {},
   "outputs": [
    {
     "name": "stdout",
     "output_type": "stream",
     "text": [
      "Students with roll number as multiples of 5: [10, 20, 50, 45, 80]\n"
     ]
    }
   ],
   "source": [
    "#with list comprehension\n",
    "roll_no=[10,13,20,50,45,80,7]\n",
    "selected_students=[roll for roll in roll_no if roll%5==0]\n",
    "print(\"Students with roll number as multiples of 5:\",selected_students)"
   ]
  },
  {
   "cell_type": "markdown",
   "metadata": {},
   "source": [
    "4.\tFor a given number A which contains only digits 0's and 1's, if it is possible to make all digits same by flipping only one digit, print YES, else print NO\n"
   ]
  },
  {
   "cell_type": "code",
   "execution_count": null,
   "metadata": {},
   "outputs": [
    {
     "name": "stdout",
     "output_type": "stream",
     "text": [
      "Enter a no containing only 0's and 1's:1000\n",
      "Yes\n"
     ]
    }
   ],
   "source": [
    "num_a=input(\"Enter a no containing only 0's and 1's:\")\n",
    "count_0=num_a.count('0')\n",
    "count_1=num_a.count('1')\n",
    "result=\"Yes\" if count_0==1 or count_1==1 else \"No\"\n",
    "print(result)"
   ]
  },
  {
   "cell_type": "markdown",
   "metadata": {},
   "source": [
    "5. Student names are saved in a tuple. Find the length of each student name."
   ]
  },
  {
   "cell_type": "code",
   "execution_count": null,
   "metadata": {},
   "outputs": [
    {
     "name": "stdout",
     "output_type": "stream",
     "text": [
      "Length of riya: 4\n",
      "Length of prisha: 6\n",
      "Length of helly: 5\n",
      "Length of rashi: 5\n"
     ]
    }
   ],
   "source": [
    "student_names=('riya','prisha','helly','rashi')\n",
    "name_length=[len(name) for name in student_names]\n",
    "for i in range (len(student_names)):\n",
    "    print(f\"Length of {student_names[i]}: {name_length[i]}\")"
   ]
  },
  {
   "cell_type": "markdown",
   "metadata": {},
   "source": [
    "6. Take a paragraph from some book. Create a dictionary consisting of all the words and its frequency in the given text.\n",
    "\n"
   ]
  },
  {
   "cell_type": "code",
   "execution_count": null,
   "metadata": {},
   "outputs": [
    {
     "name": "stdout",
     "output_type": "stream",
     "text": [
      "in a hole in the ground there lived a hobbit \n",
      "not a nasty dirty wet hole filled with the ends of worms and an oozy smell nor yet a dry bare \n",
      "sandy hole with nothing in it to sit down on or to eat it was a hobbithole and that means comfort\n",
      "['in', 'a', 'hole', 'in', 'the', 'ground', 'there', 'lived', 'a', 'hobbit', 'not', 'a', 'nasty', 'dirty', 'wet', 'hole', 'filled', 'with', 'the', 'ends', 'of', 'worms', 'and', 'an', 'oozy', 'smell', 'nor', 'yet', 'a', 'dry', 'bare', 'sandy', 'hole', 'with', 'nothing', 'in', 'it', 'to', 'sit', 'down', 'on', 'or', 'to', 'eat', 'it', 'was', 'a', 'hobbithole', 'and', 'that', 'means', 'comfort']\n",
      "Word Frequency Dictionary \n",
      "in: 3\n",
      "a: 5\n",
      "hole: 3\n",
      "the: 2\n",
      "ground: 1\n",
      "there: 1\n",
      "lived: 1\n",
      "hobbit: 1\n",
      "not: 1\n",
      "nasty: 1\n",
      "dirty: 1\n",
      "wet: 1\n",
      "filled: 1\n",
      "with: 2\n",
      "ends: 1\n",
      "of: 1\n",
      "worms: 1\n",
      "and: 2\n",
      "an: 1\n",
      "oozy: 1\n",
      "smell: 1\n",
      "nor: 1\n",
      "yet: 1\n",
      "dry: 1\n",
      "bare: 1\n",
      "sandy: 1\n",
      "nothing: 1\n",
      "it: 2\n",
      "to: 2\n",
      "sit: 1\n",
      "down: 1\n",
      "on: 1\n",
      "or: 1\n",
      "eat: 1\n",
      "was: 1\n",
      "hobbithole: 1\n",
      "that: 1\n",
      "means: 1\n",
      "comfort: 1\n"
     ]
    }
   ],
   "source": [
    "paragraph=\"\"\"In a hole in the ground there lived a hobbit. \n",
    "Not a nasty, dirty, wet hole, filled with the ends of worms and an oozy smell, nor yet a dry, bare, \n",
    "sandy hole with nothing in it to sit down on or to eat: it was a hobbit-hole, and that means comfort.\"\"\"\n",
    "\n",
    "import string\n",
    "paragraph=paragraph.translate(str.maketrans(\"\",\"\",string.punctuation)).lower()\n",
    "print(paragraph)\n",
    "\n",
    "word_frequency={}\n",
    "words=paragraph.split()\n",
    "print(words)\n",
    "for word in words:\n",
    "    word_frequency[word] = word_frequency.get(word,0) + 1\n",
    "    \n",
    "print(\"Word Frequency Dictionary \")\n",
    "for word,frequency in word_frequency.items():\n",
    "    print(f\"{word}: {frequency}\")"
   ]
  },
  {
   "cell_type": "markdown",
   "metadata": {},
   "source": [
    "7.Create a dictionary from following two lists. The first list will have name of the students and\n",
    "second list will have their corresponding marks"
   ]
  },
  {
   "cell_type": "code",
   "execution_count": null,
   "metadata": {},
   "outputs": [
    {
     "name": "stdout",
     "output_type": "stream",
     "text": [
      "{'Riya': 30, 'Diya': 40, 'Helly': 23, 'Misha': 33}\n"
     ]
    }
   ],
   "source": [
    "#use in zip\n",
    "student_names = [\"Riya\",\"Diya\",\"Helly\",\"Misha\"]\n",
    "marks = [30,40,23,33]\n",
    "result = {s:m for s,m in zip(student_names,marks)}\n",
    "print(result)"
   ]
  },
  {
   "cell_type": "markdown",
   "metadata": {},
   "source": [
    "8. Implement Caesar Cipher using Python Dictionary:\n",
    " Caesar Cipher shift =3 means each letter will be replace by 3 letters a->d, e->h, b->e"
   ]
  },
  {
   "cell_type": "code",
   "execution_count": null,
   "metadata": {},
   "outputs": [
    {
     "name": "stdout",
     "output_type": "stream",
     "text": [
      "Plain text: Hello\n",
      "Cipher text: khoor\n"
     ]
    }
   ],
   "source": [
    "alphabet = 'abcdefghijklmnopqrstuvwxyz'\n",
    "shift = 3\n",
    "cipher_dict = {alphabet[i] : alphabet[(i+shift) % 26] for i in range(len(alphabet))}\n",
    "plain_text=\"Hello\"\n",
    "cipher_text =''.join(cipher_dict.get(char,char) for char in plain_text.lower())\n",
    "print(\"Plain text:\",plain_text)\n",
    "print(\"Cipher text:\",cipher_text)"
   ]
  },
  {
   "cell_type": "markdown",
   "metadata": {},
   "source": [
    "9. Create set S1 will all even numbers from 1 to 100. Create set S2 with all squares of numbers 1 to 10. \n",
    "Create the following sets from these two sets\n",
    "i . Union of S1 and S2\n",
    "ii. Intersection of S1 and S2."
   ]
  },
  {
   "cell_type": "code",
   "execution_count": null,
   "metadata": {},
   "outputs": [
    {
     "name": "stdout",
     "output_type": "stream",
     "text": [
      "Union of S1 and S2: {1, 2, 4, 6, 8, 9, 10, 12, 14, 16, 18, 20, 22, 24, 25, 26, 28, 30, 32, 34, 36, 38, 40, 42, 44, 46, 48, 49, 50, 52, 54, 56, 58, 60, 62, 64, 66, 68, 70, 72, 74, 76, 78, 80, 81, 82, 84, 86, 88, 90, 92, 94, 96, 98, 100}\n",
      "Intersection of S1 and S2: {64, 100, 4, 36, 16}\n"
     ]
    }
   ],
   "source": [
    "S1 = {x for x in range(1, 101) if x % 2 == 0}\n",
    "S2 = {x**2 for x in range(1, 11)}\n",
    "union_set = S1 | S2\n",
    "print(\"Union of S1 and S2:\", union_set)\n",
    "intersection_set = S1 & S2\n",
    "print(\"Intersection of S1 and S2:\", intersection_set)"
   ]
  },
  {
   "cell_type": "markdown",
   "metadata": {},
   "source": [
    "10. Create a list in python for storing supermarket bill details and perform the following operations on it:\n",
    "● Add an item to the end of the list ● Insert an item at a given position ● Modify an element by using the index of the element ● Remove an item from the list ● Remove all items from the list ● Slice Elements from a List ● Remove the item at the given position in the list, and return it ● Return the number of times 'x' appear in the list ● Sort the items of the list in place ● Reverse the elements of the list in place"
   ]
  },
  {
   "cell_type": "code",
   "execution_count": null,
   "metadata": {},
   "outputs": [
    {
     "name": "stdout",
     "output_type": "stream",
     "text": [
      "Bill after adding items: ['bread', 'milk', 'cheese']\n",
      "Bill after inserting eggs: ['bread', 'eggs', 'milk', 'cheese']\n",
      "Bill after modifying item at index 0: ['almond bread', 'eggs', 'milk', 'cheese']\n",
      "Bill after removing cheese: ['almond bread', 'eggs', 'milk']\n",
      "Bill after removing all items: []\n",
      "Sliced bill (from index 1 to 3): ['milk', 'cheese', 'eggs']\n",
      "Removed item at position 2: cheese\n",
      "Bill after removing item at position 2: ['bread', 'milk', 'eggs', 'butter']\n",
      "Number of times 'milk' appears in the bill: 1\n",
      "Bill after sorting items: ['bread', 'butter', 'eggs', 'milk']\n",
      "Bill after reversing items: ['milk', 'eggs', 'butter', 'bread']\n"
     ]
    }
   ],
   "source": [
    "supermarket_bill = []\n",
    "supermarket_bill.append(\"bread\")\n",
    "supermarket_bill.append(\"milk\")\n",
    "supermarket_bill.append(\"cheese\")\n",
    "\n",
    "print(\"Bill after adding items:\", supermarket_bill)\n",
    "\n",
    "supermarket_bill.insert(1, \"eggs\")\n",
    "print(\"Bill after inserting eggs:\", supermarket_bill)\n",
    "\n",
    "supermarket_bill[0] = \"almond bread\"\n",
    "print(\"Bill after modifying item at index 0:\", supermarket_bill)\n",
    "\n",
    "supermarket_bill.remove(\"cheese\")\n",
    "print(\"Bill after removing cheese:\", supermarket_bill)\n",
    "\n",
    "supermarket_bill.clear()\n",
    "print(\"Bill after removing all items:\", supermarket_bill)\n",
    "\n",
    "supermarket_bill = [\"bread\", \"milk\", \"cheese\", \"eggs\", \"butter\"]\n",
    "sliced_bill = supermarket_bill[1:4]\n",
    "print(\"Sliced bill (from index 1 to 3):\", sliced_bill)\n",
    "\n",
    "removed_item = supermarket_bill.pop(2)\n",
    "print(\"Removed item at position 2:\", removed_item)\n",
    "print(\"Bill after removing item at position 2:\", supermarket_bill)\n",
    "\n",
    "count_milk = supermarket_bill.count(\"milk\")\n",
    "print(\"Number of times 'milk' appears in the bill:\", count_milk)\n",
    "\n",
    "supermarket_bill.sort()\n",
    "print(\"Bill after sorting items:\", supermarket_bill)\n",
    "\n",
    "supermarket_bill.reverse()\n",
    "print(\"Bill after reversing items:\", supermarket_bill)\n"
   ]
  },
  {
   "cell_type": "markdown",
   "metadata": {},
   "source": [
    "11.  Write a python program to count positive and negative numbers in a list"
   ]
  },
  {
   "cell_type": "code",
   "execution_count": null,
   "metadata": {},
   "outputs": [
    {
     "name": "stdout",
     "output_type": "stream",
     "text": [
      "Positive numbers: 3\n",
      "Negative numbers: 3\n"
     ]
    }
   ],
   "source": [
    "numbers = [1, -2, 3, -4, 5, -6]\n",
    "positive = len([num for num in numbers if num > 0])\n",
    "negative = len([num for num in numbers if num < 0])\n",
    "print(\"Positive numbers:\", positive)\n",
    "print(\"Negative numbers:\", negative)"
   ]
  },
  {
   "cell_type": "markdown",
   "metadata": {},
   "source": [
    " 12. Write a python program to sum all the elements in a list."
   ]
  },
  {
   "cell_type": "code",
   "execution_count": null,
   "metadata": {},
   "outputs": [
    {
     "name": "stdout",
     "output_type": "stream",
     "text": [
      "Sum of all elements: 15\n"
     ]
    }
   ],
   "source": [
    "numbers = [1, 2, 3, 4, 5]\n",
    "total_sum = sum(numbers)\n",
    "print(\"Sum of all elements:\", total_sum)"
   ]
  },
  {
   "cell_type": "markdown",
   "metadata": {},
   "source": [
    "13. Write a Python program to find the list of words that are longer than n from a given list of words."
   ]
  },
  {
   "cell_type": "code",
   "execution_count": null,
   "metadata": {},
   "outputs": [],
   "source": [
    "words_list = [\"apple\", \"banana\", \"kiwi\", \"cherry\", \"fig\"]\n",
    "n = 4\n",
    "\n",
    "long_words = [word for word in words_list if len(word) > n]\n",
    "print(\"Words longer than\", n, \"characters:\", long_words)"
   ]
  },
  {
   "cell_type": "markdown",
   "metadata": {},
   "source": [
    "14. Write a Python program to find the list in a list of lists whose sum of elements is the highest.\n",
    "Sample lists: [1,2,3], [4,5,6], [10,11,12], [7,8,9] Expected Output: [10, 11, 12]"
   ]
  },
  {
   "cell_type": "code",
   "execution_count": null,
   "metadata": {},
   "outputs": [
    {
     "name": "stdout",
     "output_type": "stream",
     "text": [
      "List with the highest sum: [10, 11, 12]\n"
     ]
    }
   ],
   "source": [
    "lists = [[1, 2, 3], [4, 5, 6], [10, 11, 12], [7, 8, 9]]\n",
    "\n",
    "max_sum_list = max(lists, key=sum)\n",
    "print(\"List with the highest sum:\", max_sum_list)"
   ]
  },
  {
   "cell_type": "code",
   "execution_count": null,
   "metadata": {},
   "outputs": [],
   "source": [
    "##################################################################################################################"
   ]
  },
  {
   "cell_type": "code",
   "execution_count": null,
   "metadata": {},
   "outputs": [
    {
     "name": "stdout",
     "output_type": "stream",
     "text": [
      "5\n"
     ]
    }
   ],
   "source": [
    "#1. What will be the output of following program?\n",
    "\n",
    "numbers = [1, 2, 3, 4]\n",
    "numbers.append([5,6,7,8])\n",
    "#print(numbers)\n",
    "print(len(numbers))\n",
    " # 4, 5, 8, 12\n",
    "    #Output [1, 2, 3, 4, [5, 6, 7, 8]]"
   ]
  },
  {
   "cell_type": "code",
   "execution_count": null,
   "metadata": {},
   "outputs": [
    {
     "name": "stdout",
     "output_type": "stream",
     "text": [
      "[4, 3]\n"
     ]
    }
   ],
   "source": [
    "\n",
    "#2.What will be displayed by the following code?\n",
    "list1 = [1, 3]\n",
    "list2 = list1\n",
    "list1[0] = 4\n",
    "print(list2)\n",
    " # [4,3], [1,3], [1,4], [1,2,3]"
   ]
  },
  {
   "cell_type": "code",
   "execution_count": null,
   "metadata": {},
   "outputs": [
    {
     "name": "stdout",
     "output_type": "stream",
     "text": [
      "vestig\n"
     ]
    }
   ],
   "source": [
    "#3. What will be the output of the following code? Write your answer\n",
    "\n",
    "str1=\"Investigator\"\n",
    "print(str1[2:8])"
   ]
  },
  {
   "cell_type": "code",
   "execution_count": null,
   "metadata": {},
   "outputs": [
    {
     "data": {
      "text/plain": [
       "'Programming'"
      ]
     },
     "metadata": {},
     "output_type": "display_data"
    }
   ],
   "source": [
    "#4. What will be the output of below Python code? Write your answer\n",
    "\n",
    "\"Programming\".capitalize()"
   ]
  },
  {
   "cell_type": "code",
   "execution_count": null,
   "metadata": {},
   "outputs": [
    {
     "data": {
      "text/plain": [
       "'Programming of python'"
      ]
     },
     "metadata": {},
     "output_type": "display_data"
    }
   ],
   "source": [
    "#4. What will be the output of below Python code? Write your answer\n",
    "\n",
    "\"programming of python\".capitalize()"
   ]
  },
  {
   "cell_type": "code",
   "execution_count": null,
   "metadata": {},
   "outputs": [
    {
     "ename": "TypeError",
     "evalue": "'tuple' object does not support item assignment",
     "output_type": "error",
     "traceback": [
      "\u001b[1;31m---------------------------------------------------------------------------\u001b[0m\n",
      "\u001b[1;31mTypeError\u001b[0m                                 Traceback (most recent call last)\n",
      "Cell \u001b[1;32mIn[27], line 3\u001b[0m\n",
      "\u001b[0;32m      1\u001b[0m \u001b[38;5;66;03m#5. What is the output of the following code?Write your answer.\u001b[39;00m\n",
      "\u001b[0;32m      2\u001b[0m My_tuple\u001b[38;5;241m=\u001b[39m (\u001b[38;5;241m20\u001b[39m,\u001b[38;5;241m100\u001b[39m,\u001b[38;5;241m40\u001b[39m,\u001b[38;5;241m30\u001b[39m)\n",
      "\u001b[1;32m----> 3\u001b[0m My_tuple[\u001b[38;5;241m1\u001b[39m]\u001b[38;5;241m=\u001b[39m \u001b[38;5;241m75\u001b[39m\n",
      "\u001b[0;32m      4\u001b[0m Print(My_tuple)\n",
      "\n",
      "\u001b[1;31mTypeError\u001b[0m: 'tuple' object does not support item assignment"
     ]
    }
   ],
   "source": [
    "#5. What is the output of the following code?Write your answer.\n",
    "My_tuple= (20,100,40,30)\n",
    "My_tuple[1]= 75\n",
    "Print(My_tuple)\n"
   ]
  },
  {
   "cell_type": "code",
   "execution_count": null,
   "metadata": {},
   "outputs": [],
   "source": [
    "##################################################################################################################"
   ]
  },
  {
   "cell_type": "markdown",
   "metadata": {},
   "source": [
    "\n",
    "\n",
    "#Q1. Select the correct way to print Emma’s age.\n",
    "student = {1: {'name': 'Emma', 'age': '27', 'sex': 'Female'},\n",
    "           2: {'name': 'Mike', 'age': '22', 'sex': 'Male'}}\n",
    "student[0][1]\n",
    "student[1][\"age\"]\n",
    "student[0][\"age\"]\n",
    "\n",
    "#ans is print(student[1][\"age\"])\n"
   ]
  },
  {
   "cell_type": "code",
   "execution_count": null,
   "metadata": {},
   "outputs": [
    {
     "name": "stdout",
     "output_type": "stream",
     "text": [
      "27\n"
     ]
    }
   ],
   "source": [
    "student = {1: {'name': 'Emma', 'age': '27', 'sex': 'Female'},\n",
    "           2: {'name': 'Mike', 'age': '22', 'sex': 'Male'}}\n",
    "print(student[1][\"age\"])"
   ]
  },
  {
   "cell_type": "markdown",
   "metadata": {},
   "source": [
    "#Q2. What is the output of the following code\n",
    "dict1 = {\"key1\":1, \"key2\":2}\n",
    "dict2 = {\"key2\":2, \"key1\":1}\n",
    "print(dict1 == dict2)\n",
    "  #True or False\n",
    "    \n",
    "#True"
   ]
  },
  {
   "cell_type": "code",
   "execution_count": null,
   "metadata": {},
   "outputs": [
    {
     "name": "stdout",
     "output_type": "stream",
     "text": [
      "True\n"
     ]
    }
   ],
   "source": [
    "dict1 = {\"key1\":1, \"key2\":2}\n",
    "dict2 = {\"key2\":2, \"key1\":1}\n",
    "print(dict1 == dict2)"
   ]
  },
  {
   "cell_type": "markdown",
   "metadata": {},
   "source": [
    "#Q3. Select all correct ways to copy a dictionary in Python\n",
    "\n",
    "\n",
    "  dict2 = dict1.copy()\n",
    "  dict2 = dict(dict1)\n",
    "  dict2 = dict1\n",
    "#dict2 = dict1.copy()\n"
   ]
  },
  {
   "cell_type": "code",
   "execution_count": null,
   "metadata": {},
   "outputs": [
    {
     "name": "stdout",
     "output_type": "stream",
     "text": [
      "True\n"
     ]
    }
   ],
   "source": [
    "dict1 = {\"key1\":1, \"key2\":2}\n",
    "dict2 = {\"key2\":2, \"key1\":1}\n",
    "print(dict1 == dict2)\n",
    "\n",
    "dict2 = dict1.copy()\n",
    "dict2 = dict(dict1)"
   ]
  },
  {
   "cell_type": "markdown",
   "metadata": {},
   "source": [
    "#Q4. Select the correct way to access the value of a history subject\n",
    "sampleDict = { \n",
    "   \"class\":{ \n",
    "      \"student\":{ \n",
    "         \"name\":\"Mike\",\n",
    "         \"marks\":{ \n",
    "            \"physics\":70,\n",
    "            \"history\":80\n",
    "         }\n",
    "      }\n",
    "   }\n",
    "}\n",
    "  sampleDict['class']['student']['marks']['history']\n",
    "  sampleDict['class']['student']['marks'][1]\n",
    "  sampleDict['class'][0]['marks']['history']\n",
    "  \n",
    "  #sampleDict['class']['student']['marks']['history']"
   ]
  },
  {
   "cell_type": "code",
   "execution_count": null,
   "metadata": {},
   "outputs": [
    {
     "data": {
      "text/plain": [
       "80"
      ]
     },
     "metadata": {},
     "output_type": "display_data"
    }
   ],
   "source": [
    "sampleDict = { \n",
    "   \"class\":{ \n",
    "      \"student\":{ \n",
    "         \"name\":\"Mike\",\n",
    "         \"marks\":{ \n",
    "            \"physics\":70,\n",
    "            \"history\":80\n",
    "         }\n",
    "      }\n",
    "   }\n",
    "}\n",
    "sampleDict['class']['student']['marks']['history']"
   ]
  },
  {
   "cell_type": "markdown",
   "metadata": {},
   "source": [
    "#Q5. What is the output of the following?\n",
    "sampleSet = {\"Yellow\", \"Orange\", \"Black\"}\n",
    "sampleSet.discard(\"Blue\")\n",
    "print(sampleSet)\n",
    "  {‘Yellow’, ‘Orange’, ‘Black’}\n",
    "  KeyError: ‘Blue’\n",
    "\n",
    "Indentation Error\n",
    "OR\n",
    "{'Yellow', 'Orange', 'Black'}"
   ]
  },
  {
   "cell_type": "code",
   "execution_count": null,
   "metadata": {},
   "outputs": [
    {
     "name": "stdout",
     "output_type": "stream",
     "text": [
      "{'Yellow', 'Orange', 'Black'}\n"
     ]
    }
   ],
   "source": [
    "sampleSet = {\"Yellow\", \"Orange\", \"Black\"}\n",
    "sampleSet.discard(\"Blue\")\n",
    "print(sampleSet)\n"
   ]
  },
  {
   "cell_type": "code",
   "execution_count": null,
   "metadata": {},
   "outputs": [],
   "source": []
  },
  {
   "cell_type": "code",
   "execution_count": null,
   "metadata": {},
   "outputs": [],
   "source": []
  },
  {
   "cell_type": "code",
   "execution_count": null,
   "metadata": {},
   "outputs": [
    {
     "name": "stdout",
     "output_type": "stream",
     "text": [
      "The GCD of 4 and 8 is: 4\n"
     ]
    }
   ],
   "source": [
    "def gcd(a,b):\n",
    "    while b!=0:\n",
    "        a, b = b, a % b\n",
    "    return a\n",
    "a=4\n",
    "b=8\n",
    "result = gcd(a, b)\n",
    "print(\"The GCD of\", a, \"and\", b, \"is:\", result)"
   ]
  },
  {
   "cell_type": "code",
   "execution_count": null,
   "metadata": {},
   "outputs": [
    {
     "name": "stdout",
     "output_type": "stream",
     "text": [
      "Result of mul function: 15\n",
      "Result of sub function: 28\n"
     ]
    }
   ],
   "source": [
    "def mul(num):\n",
    "    return num * 3\n",
    "\n",
    "def sub(num):\n",
    "    return mul(num) - 2\n",
    "\n",
    "result_mul=mul(5)\n",
    "result_sub=sub(10)\n",
    "\n",
    "print(f\"Result of mul function: {result_mul}\")\n",
    "print(f\"Result of sub function: {result_sub}\")"
   ]
  },
  {
   "cell_type": "code",
   "execution_count": null,
   "metadata": {},
   "outputs": [
    {
     "name": "stdout",
     "output_type": "stream",
     "text": [
      "Student Name: Riya\n",
      "Standard: 11th\n",
      "School: St joseph\n",
      "Student Name: Prisha\n",
      "Standard: 12th\n",
      "School: St Xavier\n"
     ]
    }
   ],
   "source": [
    "def student(name,standard=\"11th\",school_name=\"St joseph\"):\n",
    "    print(f\"Student Name: {name}\")\n",
    "    print(f\"Standard: {standard}\")\n",
    "    print(f\"School: {school_name}\")\n",
    "    \n",
    "student(\"Riya\")\n",
    "student(\"Prisha\",\"12th\",\"St Xavier\")"
   ]
  },
  {
   "cell_type": "code",
   "execution_count": null,
   "metadata": {},
   "outputs": [
    {
     "name": "stdout",
     "output_type": "stream",
     "text": [
      "Square root of 4 is: 2.0\n"
     ]
    }
   ],
   "source": [
    "import math\n",
    "def square_root(num):\n",
    "    return math.sqrt(num)\n",
    "result=square_root(4)\n",
    "print(\"Square root of 4 is:\", result)"
   ]
  },
  {
   "cell_type": "code",
   "execution_count": null,
   "metadata": {},
   "outputs": [
    {
     "name": "stdout",
     "output_type": "stream",
     "text": [
      "Enter the furniture name:sofa\n",
      "Enter the number of quantity:4\n",
      "The amount to be paid is 80000\n"
     ]
    }
   ],
   "source": [
    "furniture = [\"sofa\",\"table\",\"dinig_table\",\"tv_stand\",\"cupboard\"]\n",
    "cost = [20000,8500,4599,13920]\n",
    "\n",
    "def calculate_bill(furniture_name,quantity):\n",
    "    if furniture_name not in furniture:\n",
    "        print(\"Error: Furniture not available\")\n",
    "        return 0\n",
    "    index = furniture.index(furniture_name)\n",
    "    if quantity <=0:\n",
    "        print(\"Error: Invalid quantity.\")\n",
    "        return 0\n",
    "    bill = cost[index] * quantity\n",
    "    return bill\n",
    "\n",
    "furniture_name = input(\"Enter the furniture name:\")\n",
    "quantity = int(input(\"Enter the number of quantity:\"))\n",
    "\n",
    "bill = calculate_bill(furniture_name,quantity)\n",
    "if bill!=0:\n",
    "    print(\"The amount to be paid is\", bill)"
   ]
  },
  {
   "cell_type": "code",
   "execution_count": null,
   "metadata": {},
   "outputs": [
    {
     "name": "stdout",
     "output_type": "stream",
     "text": [
      "The number of courses opted by John: 4\n",
      "The courses opted by John: ('Python Programming', 'RDBMS', 'Web Technology', 'Software Engg.')\n",
      "\n",
      "Updated list of courses including electives:\n",
      "Python Programming\n",
      "RDBMS\n",
      "Web Technology\n",
      "Software Engg.\n",
      "Business Intelligence\n",
      "Big Data Analytics\n"
     ]
    }
   ],
   "source": [
    "courses = (\"Python Programming\", \"RDBMS\", \"Web Technology\", \"Software Engg.\")\n",
    "electives = (\"Business Intelligence\", \"Big Data Analytics\")\n",
    "\n",
    "def list_course(courses):\n",
    "    print(f\"The number of courses opted by John: {len(courses)}\")\n",
    "    print(f\"The courses opted by John: {courses}\")\n",
    "\n",
    "def add_electives(courses, electives):\n",
    "    updated_courses = courses + electives\n",
    "    return updated_courses\n",
    "\n",
    "list_course(courses)\n",
    "\n",
    "updated_courses = add_electives(courses, electives)\n",
    "\n",
    "print(\"\\nUpdated list of courses including electives:\")\n",
    "for course in updated_courses:\n",
    "    print(course)\n"
   ]
  },
  {
   "cell_type": "code",
   "execution_count": null,
   "metadata": {},
   "outputs": [
    {
     "name": "stdout",
     "output_type": "stream",
     "text": [
      "Name: John Marks: 86.5\n",
      "Name: Jack Marks: 91.2\n",
      "Name: Jill Marks: 845.5\n",
      "Name: Harry Marks: 72.1\n",
      "Name: Joe Marks: 80.5\n",
      "*********************************\n",
      "Top two scorers:\n",
      "Name: Jill Marks: 845.5\n",
      "Name: Jack Marks: 91.2\n",
      "*********************************\n",
      "Class Average: 235.16\n"
     ]
    }
   ],
   "source": [
    "marks = {\"John\": 86.5, \"Jack\": 91.2, \"Jill\": 845.5, \"Harry\": 72.1, \"Joe\": 80.5}\n",
    "\n",
    "def display_marks(marks):\n",
    "    for name, mark in marks.items():  \n",
    "        print(\"Name:\", name, \"Marks:\", mark)\n",
    "        \n",
    "def display_top_scorers(marks):\n",
    "    sorted_marks = sorted(marks.items(), key=lambda x: x[1], reverse=True)\n",
    "    print(\"*********************************\")\n",
    "    print(\"Top two scorers:\")\n",
    "    for i in range(2):\n",
    "        print(\"Name:\", sorted_marks[i][0], \"Marks:\", sorted_marks[i][1])\n",
    "\n",
    "def display_average(marks):\n",
    "    total = sum(marks.values())\n",
    "    average = total / len(marks)\n",
    "    print(\"*********************************\")\n",
    "    print(f\"Class Average: {average:.2f}\")\n",
    "\n",
    "display_marks(marks)\n",
    "display_top_scorers(marks)\n",
    "display_average(marks)\n"
   ]
  },
  {
   "cell_type": "code",
   "execution_count": null,
   "metadata": {},
   "outputs": [
    {
     "name": "stdout",
     "output_type": "stream",
     "text": [
      "Number of students enrolled in Python course: 4\n",
      "Number of students enrolled only in Java course: 2\n",
      "Numbe of students enrolled only in Python course:2\n",
      "Number of students enrolled in both Java and Python courses: 2\n",
      "Number of students enrolled in either Java or Python, but not both: 4\n",
      "Number of students enrolled in either Java or Python courses: 6\n"
     ]
    }
   ],
   "source": [
    "java_course = {\"John\", \"Jack\", \"Jill\", \"Joe\"}\n",
    "python_course = {\"Jake\", \"John\", \"Eric\", \"Jill\"}\n",
    " \n",
    "python_count = len(python_course)\n",
    "print(f\"Number of students enrolled in Python course: {python_count}\")\n",
    " \n",
    "java_only_count = len(java_course - python_course)\n",
    "print(f\"Number of students enrolled only in Java course: {java_only_count}\")\n",
    " \n",
    "python_only_count= len(python_course - java_course)\n",
    "print(f\"Numbe of students enrolled only in Python course:{python_only_count}\")\n",
    " \n",
    "both_courses_count = len(java_course & python_course)\n",
    "print(f\"Number of students enrolled in both Java and Python courses: {both_courses_count}\")\n",
    " \n",
    "either_but_not_both_count = len((java_course - python_course) | (python_course - java_course))\n",
    "print(f\"Number of students enrolled in either Java or Python, but not both: {either_but_not_both_count}\")\n",
    " \n",
    "either_course_count = len(java_course | python_course)\n",
    "print(f\"Number of students enrolled in either Java or Python courses: {either_course_count}\")\n"
   ]
  },
  {
   "cell_type": "code",
   "execution_count": null,
   "metadata": {},
   "outputs": [
    {
     "name": "stdout",
     "output_type": "stream",
     "text": [
      "[[1, 2, 3], [1, 3, 2], [2, 1, 3], [2, 3, 1], [3, 1, 2], [3, 2, 1]]\n"
     ]
    }
   ],
   "source": [
    "import itertools\n",
    "\n",
    "def get_permutations(digits):\n",
    "    return [list(p) for p in itertools.permutations(digits)]\n",
    "\n",
    "digits = [1, 2, 3]\n",
    "result = get_permutations(digits)\n",
    "print(result)"
   ]
  },
  {
   "cell_type": "code",
   "execution_count": null,
   "metadata": {},
   "outputs": [
    {
     "name": "stdout",
     "output_type": "stream",
     "text": [
      "15\n"
     ]
    }
   ],
   "source": [
    "def outerFun(a, b):\n",
    "    def innerFun(c, d):\n",
    "        return c + d\n",
    "    return innerFun(a, b)\n",
    "\n",
    "res = outerFun(5, 10)\n",
    "print(res)"
   ]
  },
  {
   "cell_type": "code",
   "execution_count": null,
   "metadata": {},
   "outputs": [
    {
     "name": "stdout",
     "output_type": "stream",
     "text": [
      "{1, 2, 3, 100, 4, 200}\n",
      "4\n"
     ]
    }
   ],
   "source": [
    "def largest_consecutive(num):\n",
    "    num_set=set(num)\n",
    "    print(num_set)\n",
    "    max_length = 0\n",
    "    \n",
    "    for num in num_set:\n",
    "        if num - 1 not in num_set:\n",
    "            current_num = num\n",
    "            current_length = 1\n",
    "            while current_num +1 in num_set:\n",
    "                current_num += 1\n",
    "                current_length +=1\n",
    "            max_length = max(max_length,current_length)\n",
    "    return max_length\n",
    "\n",
    "num=[100,4,200,1,3,2]\n",
    "result= largest_consecutive(num)\n",
    "print(result)"
   ]
  },
  {
   "cell_type": "code",
   "execution_count": null,
   "metadata": {},
   "outputs": [
    {
     "name": "stdout",
     "output_type": "stream",
     "text": [
      "(8, 7)\n"
     ]
    }
   ],
   "source": [
    "def add(a, b):\n",
    "    return a+5, b+5\n",
    "\n",
    "result = add(3, 2)\n",
    "print(result)"
   ]
  },
  {
   "cell_type": "code",
   "execution_count": null,
   "metadata": {},
   "outputs": [
    {
     "name": "stdout",
     "output_type": "stream",
     "text": [
      "emp\n",
      "salary\n"
     ]
    }
   ],
   "source": [
    "def display(**kwargs):\n",
    "    for i in kwargs:\n",
    "        print(i)\n",
    "display(emp=\"Kelly\", salary=9000)\n"
   ]
  }
 ],
 "metadata": {
  "language_info": {
   "name": "python"
  }
 },
 "nbformat": 4,
 "nbformat_minor": 2
}
